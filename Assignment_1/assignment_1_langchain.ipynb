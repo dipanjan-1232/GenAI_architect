{
 "cells": [
  {
   "cell_type": "code",
   "execution_count": 37,
   "id": "c54f5e46",
   "metadata": {},
   "outputs": [],
   "source": [
    "# !pip install langchain langchain-experimental langchain-openai\n",
    "# \n",
    "# !pip install azure-keyvault-secrets\n",
    "# !pip install azure-identity\n",
    "# !pip install yfinance\n",
    "# !pip install langchain-tavily\n",
    "# !pip install langfuse"
   ]
  },
  {
   "cell_type": "code",
   "execution_count": 38,
   "id": "5e09a36f",
   "metadata": {},
   "outputs": [],
   "source": [
    "from langchain_openai import AzureChatOpenAI\n",
    "from azure.keyvault.secrets import SecretClient\n",
    "from azure.identity import DefaultAzureCredential\n",
    "from langchain_core.prompts import ChatPromptTemplate, PromptTemplate\n",
    "# from langchain_community.tools.yahoo_finance_news import YahooFinanceNewsTool\n",
    "from langchain_tavily import TavilySearch\n",
    "from langchain_core.output_parsers import JsonOutputParser\n",
    "from pydantic import BaseModel, Field\n",
    "import json, os\n",
    "from langfuse.callback import CallbackHandler\n"
   ]
  },
  {
   "cell_type": "code",
   "execution_count": 39,
   "id": "90956124",
   "metadata": {},
   "outputs": [],
   "source": [
    "# KVUri = \"https://dipanjans-kv.vault.azure.net\"\n",
    "# credential = DefaultAzureCredential()\n",
    "# client = SecretClient(vault_url=KVUri, credential=credential)\n",
    "\n",
    "# # #### Setting up secrets for future use ####\n",
    "# # secretName_1 = \"azure-openai-endpoint\"\n",
    "# # secretValue_1 = 'https://dipanjan-oai.openai.azure.com/openai/deployments/gpt-4o-mini/chat/completions?api-version=2025-01-01-preview'\n",
    "\n",
    "# # secretName_2 = \"azure-openai-key\"\n",
    "# # secretValue_2 = 'E2EyDw7HealrkGoWMO3sbu9nCZ22Install pip dependenciesrN8oWo3MTVzePBnPczmfihbYJQQJ99BEACYeBjFXJ3w3AAABACOGr5SL'\n",
    "\n",
    "# secretName_3 = \"tavily-api-key\"\n",
    "# secretValue_3 = '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'\n",
    "\n",
    "# secretName_4 = \"langfuse-secret-key-1\"\n",
    "# secretValue_4 = \"sk-lf-e32025cf-21ff-4e4e-82ea-751e13f47ee8\"\n",
    "\n",
    "\n",
    "# secretName_5 = \"langfuse-public-key-1\"\n",
    "# secretValue_5 = \"pk-lf-0acc3b60-04c7-4e3f-b2b6-8a0b5f9e3632\"\n",
    "\n",
    "# secretName_6 = \"langfuse-host-1\"\n",
    "# secretValue_6 = \"http://localhost:3000\"\n",
    "\n",
    "# client.set_secret(secretName_1, secretValue_1)\n",
    "# client.set_secret(secretName_2, secretValue_2)\n",
    "# client.set_secret(secretName_3, secretValue_3)\n",
    "# client.set_secret(secretName_4, secretValue_4)\n",
    "# client.set_secret(secretName_5, secretValue_5)\n",
    "# client.set_secret(secretName_6, secretValue_6)"
   ]
  },
  {
   "cell_type": "code",
   "execution_count": 40,
   "id": "56e095d3",
   "metadata": {},
   "outputs": [],
   "source": [
    "KVUri = \"https://dipanjans-kv.vault.azure.net\"\n",
    "credential = DefaultAzureCredential()\n",
    "client = SecretClient(vault_url=KVUri, credential=credential)\n",
    "\n",
    "oai_endpoint= client.get_secret(\"azure-openai-endpoint\")\n",
    "oai_key=      client.get_secret(\"azure-openai-key\")\n",
    "tavily_api_key =client.get_secret(\"tavily-api-key\")\n",
    "langfuse_sk= client.get_secret(\"langfuse-secret-key-1\")\n",
    "langfuse_pk= client.get_secret(\"langfuse-public-key-1\")\n",
    "langfuse_host= client.get_secret(\"langfuse-host-1\")\n",
    "\n",
    "os.environ['TAVILY_API_KEY'] = tavily_api_key.value\n"
   ]
  },
  {
   "cell_type": "code",
   "execution_count": 41,
   "id": "673845c9",
   "metadata": {},
   "outputs": [],
   "source": [
    "model = AzureChatOpenAI(api_version=\"2024-12-01-preview\",\n",
    "                        model='gpt-40-mini' , \n",
    "                        azure_endpoint= oai_endpoint.value,\n",
    "                        api_key = oai_key.value)\n",
    "\n",
    "# prompt = \"Tell me a joke about mouse\"\n",
    "# model.invoke(prompt)"
   ]
  },
  {
   "cell_type": "code",
   "execution_count": 42,
   "id": "1219eac1",
   "metadata": {},
   "outputs": [],
   "source": [
    "# creating the json parsers\n",
    "class company(BaseModel):\n",
    "    company_name: str = Field(description=\"company name for which stock code is required\")\n",
    "    company_code: str = Field(description=\"ticker code / company code /company symbol of the company\")\n",
    "\n",
    "class company_details(BaseModel):\n",
    "    company_name: str = Field(description=\"company name for which stock code is required\")\n",
    "    stock_code: str = Field(description=\"ticker code / stock code / company code /company symbol of the company\")\n",
    "    newsdesc:str = Field(description= \"summary of all news related to the company\")\n",
    "    sentiment:str= Field(description= \"news sentiment- can take only one out of these values- [Positive, Negative, Neutral]\")\n",
    "    people_names:list[str] = Field(description= \"list of all people names in the news articles\")\n",
    "    place_names:list[str] = Field(description= \"list of all place / region / location names in the news articles\")\n",
    "    other_companies_referred:list[str] = Field(description= \"list of other companies in the news articles\")\n",
    "    related_industries:list[str] = Field(description= \"list of related industries\")\n",
    "    market_implications:str = Field(description= \"what market implications can be expected, looking into the news articles\")\n",
    "    confidence_score:int =  Field(description= \"confidence score for the report generated\")\n",
    "\n",
    "\n",
    "json_parser_company_code = JsonOutputParser(pydantic_object= company)\n",
    "json_parser_company_details = JsonOutputParser(pydantic_object= company_details)\n",
    "    "
   ]
  },
  {
   "cell_type": "code",
   "execution_count": 43,
   "id": "3b16af07",
   "metadata": {},
   "outputs": [],
   "source": [
    "tavily_search_tool = TavilySearch(\n",
    "    max_results=20,\n",
    "    topic=\"news\",\n",
    ")\n",
    "def get_news_tool(company_dct):\n",
    "    data = {\"comp\": company_dct['company_name'], \"code\": company_dct['company_code']}\n",
    "    news_searches= tavily_search_tool.invoke({\"query\":\"Get latest news for the company - {comp} with company code {code}\".format(**data)})\n",
    "    all_news= ''\n",
    "    for i,result in enumerate(news_searches['results']):\n",
    "        news_num = i+1\n",
    "        all_news = all_news + \"news_{}\".format(news_num) +\": \" +  str(result['content']) + \"\\n\"\n",
    "        \n",
    "    return {'all_news':all_news}\n",
    "\n",
    "# company_dct = {'company_name': 'Nvidia', 'company_code': 'NVDA'}\n",
    "# get_news_tool(company_dct)\n",
    "# # chain = get_stock_prompt | model | json_parser | get_news_tool\n",
    "# # chain.invoke(\"nvidea\")"
   ]
  },
  {
   "cell_type": "code",
   "execution_count": 44,
   "id": "f40e530e",
   "metadata": {},
   "outputs": [],
   "source": [
    "langfuse_handler = CallbackHandler(\n",
    "    secret_key= langfuse_sk.value,\n",
    "    public_key=langfuse_pk.value,\n",
    "    host=langfuse_host.value,\n",
    "    session_id = 'dag_chain_finance_uuid'\n",
    ")"
   ]
  },
  {
   "cell_type": "code",
   "execution_count": 45,
   "id": "cd1f2a02",
   "metadata": {},
   "outputs": [],
   "source": [
    "def get_company_report(company_name):\n",
    "    \"\"\"\n",
    "    Takes company name as input and generates a report in json. \n",
    "    The json is also saved in the format -> sample_output_json_<company_name>.json \n",
    "    \"\"\"\n",
    "    get_stock_prompt = PromptTemplate(template= \"Give the stock code for \\n{format_instructions}\\n{inp_company}\\n Give None if not listed\",\n",
    "                                          input_variables=[\"inp_company\"],\n",
    "                                          partial_variables={\"format_instructions\": json_parser_company_code.get_format_instructions()})\n",
    "    get_report_prompt = PromptTemplate(template= \"Give a detailed report in the following format \\n{format_instructions}\\n using the news given below - \\n {all_news}\",\n",
    "                                          input_variables=[\"all_news\"],\n",
    "                                          partial_variables={\"format_instructions\": json_parser_company_details.get_format_instructions()})\n",
    "    chain = get_stock_prompt | model | json_parser_company_code | get_news_tool | get_report_prompt | model | json_parser_company_details\n",
    "    data = chain.invoke(company_name, config={\"callbacks\": [langfuse_handler]})\n",
    "    \n",
    "    #### save json\n",
    "    with open(\"sample_output_json_{}.json\".format(company_name), \"w\") as file:\n",
    "        json.dump(data, file, indent=4)\n",
    "    \n",
    "    return data\n",
    "\n",
    "\n",
    "\n",
    "# chain = get_stock_prompt | model | json_parser\n",
    "# chain.invoke('nvidea')   -->  {'company_name': 'NVIDIA Corporation', 'company_code': 'NVDA'}"
   ]
  },
  {
   "cell_type": "code",
   "execution_count": 46,
   "id": "a09ffaf3",
   "metadata": {},
   "outputs": [
    {
     "data": {
      "text/plain": [
       "{'company_name': 'Bajaj Finserv Ltd',\n",
       " 'stock_code': 'BOM:532978',\n",
       " 'newsdesc': 'Bajaj Finserv has reported a 10% rise in total income and a 14% jump in Q4FY25 net profit, highlighting strategic shifts in its product offerings. The company is also facing a fine of ₹ 850 crore for tax evasion while exploring partnerships for future growth, including a strategic collaboration with Bharti Airtel in financial services.',\n",
       " 'sentiment': 'Positive',\n",
       " 'people_names': [],\n",
       " 'place_names': ['India', 'New Delhi'],\n",
       " 'other_companies_referred': ['Bajaj Finance', 'Bharti Airtel', 'Allianz SE'],\n",
       " 'related_industries': ['Financial Services',\n",
       "  'Insurance',\n",
       "  'Consumer Finance',\n",
       "  'Banking'],\n",
       " 'market_implications': 'The positive performance in income and profit suggests robust growth for Bajaj Finserv, while the strategic partnership with Bharti Airtel aims to enhance market access and service delivery in financial products. However, the tax evasion penalty poses risks to its financial standing and reputation.',\n",
       " 'confidence_score': 85}"
      ]
     },
     "execution_count": 46,
     "metadata": {},
     "output_type": "execute_result"
    }
   ],
   "source": [
    "# get_company_report('Microsoft')\n",
    "# get_company_report('Tredence')\n",
    "# get_company_report('Tiger analytics')\n",
    "# get_company_report('Vedanta limited')\n",
    "get_company_report('Bajaj financial services')\n"
   ]
  },
  {
   "cell_type": "code",
   "execution_count": null,
   "id": "6428b543",
   "metadata": {},
   "outputs": [],
   "source": []
  },
  {
   "cell_type": "code",
   "execution_count": null,
   "id": "c7fa8568",
   "metadata": {},
   "outputs": [],
   "source": []
  },
  {
   "cell_type": "code",
   "execution_count": null,
   "id": "54366236",
   "metadata": {},
   "outputs": [],
   "source": []
  },
  {
   "cell_type": "code",
   "execution_count": null,
   "id": "d84a8a7c",
   "metadata": {},
   "outputs": [],
   "source": []
  },
  {
   "cell_type": "code",
   "execution_count": null,
   "id": "5e21ab85",
   "metadata": {},
   "outputs": [],
   "source": []
  },
  {
   "cell_type": "code",
   "execution_count": null,
   "id": "0e0409b7",
   "metadata": {},
   "outputs": [],
   "source": []
  },
  {
   "cell_type": "code",
   "execution_count": null,
   "id": "11eaf0ce",
   "metadata": {},
   "outputs": [],
   "source": []
  }
 ],
 "metadata": {
  "kernelspec": {
   "display_name": ".venv",
   "language": "python",
   "name": "python3"
  },
  "language_info": {
   "codemirror_mode": {
    "name": "ipython",
    "version": 3
   },
   "file_extension": ".py",
   "mimetype": "text/x-python",
   "name": "python",
   "nbconvert_exporter": "python",
   "pygments_lexer": "ipython3",
   "version": "3.12.3"
  }
 },
 "nbformat": 4,
 "nbformat_minor": 5
}
