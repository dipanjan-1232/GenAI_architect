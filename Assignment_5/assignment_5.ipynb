{
 "cells": [
  {
   "cell_type": "code",
   "execution_count": 1,
   "id": "21e72260",
   "metadata": {},
   "outputs": [
    {
     "name": "stdout",
     "output_type": "stream",
     "text": [
      "\u001b[31mERROR: Could not find a version that satisfies the requirement concurrent (from versions: none)\u001b[0m\u001b[31m\n",
      "\u001b[0m\u001b[31mERROR: No matching distribution found for concurrent\u001b[0m\u001b[31m\n",
      "\u001b[0m"
     ]
    }
   ],
   "source": [
    "!pip install openai --quiet\n",
    "!pip install tenacity --quiet\n",
    "!pip install tqdm --quiet\n",
    "!pip install numpy --quiet\n",
    "!pip install typing --quiet\n",
    "!pip install tiktoken --quiet\n",
    "!pip install concurrent --quiet"
   ]
  },
  {
   "cell_type": "code",
   "execution_count": 13,
   "id": "5d65fce5",
   "metadata": {},
   "outputs": [],
   "source": [
    "!wget -q https://raw.githubusercontent.com/anshupandey/Generative-AI-for-Professionals/main/datasets/sample_clothes.zip"
   ]
  },
  {
   "cell_type": "code",
   "execution_count": 14,
   "id": "4504dfee",
   "metadata": {},
   "outputs": [],
   "source": [
    "!unzip -q sample_clothes.zip"
   ]
  },
  {
   "cell_type": "code",
   "execution_count": null,
   "id": "ea7da58e",
   "metadata": {},
   "outputs": [],
   "source": [
    "import pandas as pd\n",
    "import time\n",
    "import json, os, re\n",
    "from langchain_openai import AzureChatOpenAI, AzureOpenAIEmbeddings\n",
    "from azure.keyvault.secrets import SecretClient\n",
    "from azure.identity import DefaultAzureCredential\n",
    "from langchain_core.prompts import ChatPromptTemplate, PromptTemplate\n",
    "from langchain_core.output_parsers import JsonOutputParser\n",
    "from pydantic import BaseModel, Field\n",
    "from langfuse.callback import CallbackHandler\n",
    "from langchain_chroma import Chroma\n",
    "from typing import TypedDict, List, Dict\n",
    "from langchain_core.prompts import PromptTemplate\n",
    "from langchain_core.runnables import RunnablePassthrough\n",
    "from langchain.schema.runnable import RunnableMap, RunnableLambda\n",
    "from langgraph.graph import END, StateGraph, START\n",
    "from IPython.display import Image, display\n",
    "from langchain.schema.messages import HumanMessage, SystemMessage, ToolMessage"
   ]
  },
  {
   "cell_type": "code",
   "execution_count": 3,
   "id": "be4fed8e",
   "metadata": {},
   "outputs": [],
   "source": [
    "import pandas as pd\n",
    "import numpy as np\n",
    "import json\n",
    "import ast\n",
    "import tiktoken\n",
    "import concurrent\n",
    "from openai import OpenAI\n",
    "from tqdm import tqdm\n",
    "from tenacity import retry, wait_random_exponential, stop_after_attempt\n",
    "from IPython.display import Image, display, HTML\n",
    "from typing import List\n",
    "import os\n",
    "\n",
    "\n",
    "KVUri = \"https://dipanjans-kv.vault.azure.net\"\n",
    "credential = DefaultAzureCredential()\n",
    "client = SecretClient(vault_url=KVUri, credential=credential)\n",
    "\n",
    "oai_endpoint= client.get_secret(\"azure-openai-endpoint\")\n",
    "oai_key=      client.get_secret(\"azure-openai-key\")\n",
    "oai_endpoint_embed= client.get_secret(\"azure-openai-endpoint-embed\")\n",
    "oai_key_embed=      client.get_secret(\"azure-openai-key-embed\")\n",
    "oai_endpoint_embed_3= 'https://dipanjan-oai.openai.azure.com/openai/deployments/text-embedding-3-large/embeddings?api-version=2023-05-15'\n",
    "oai_key_embed_3     = 'E2EyDw7HealrkGoWMO3sbu9nCZ22rN8oWo3MTVzePBnPczmfihbYJQQJ99BEACYeBjFXJ3w3AAABACOGr5SL'\n",
    "\n",
    "llm = AzureChatOpenAI(api_version=\"2024-12-01-preview\",\n",
    "                        model='gpt-40-mini' , \n",
    "                        azure_endpoint= oai_endpoint.value,\n",
    "                        api_key = oai_key.value)\n",
    "\n",
    "embeds = AzureOpenAIEmbeddings(azure_deployment=\"text-embedding-3-large\",\n",
    "                        model = 'text-embedding-3-large',\n",
    "                        azure_endpoint= oai_endpoint_embed_3,\n",
    "                        api_key = oai_key_embed_3)\n",
    "\n",
    "EMBEDDING_COST_PER_1K_TOKENS = 0.02\n"
   ]
  },
  {
   "cell_type": "code",
   "execution_count": 4,
   "id": "8efff03e",
   "metadata": {},
   "outputs": [
    {
     "name": "stdout",
     "output_type": "stream",
     "text": [
      "      id gender masterCategory subCategory articleType baseColour  season  \\\n",
      "0  27152    Men        Apparel     Topwear      Shirts       Blue  Summer   \n",
      "1  10469    Men        Apparel     Topwear     Tshirts     Yellow    Fall   \n",
      "2  17169    Men        Apparel     Topwear      Shirts     Maroon    Fall   \n",
      "3  56702    Men        Apparel     Topwear      Kurtas       Blue  Summer   \n",
      "4  47062  Women        Apparel  Bottomwear     Patiala      Multi    Fall   \n",
      "\n",
      "     year   usage                       productDisplayName  \n",
      "0  2012.0  Formal       Mark Taylor Men Striped Blue Shirt  \n",
      "1  2011.0  Casual   Flying Machine Men Yellow Polo Tshirts  \n",
      "2  2011.0  Casual  U.S. Polo Assn. Men Checks Maroon Shirt  \n",
      "3  2012.0  Ethnic                  Fabindia Men Blue Kurta  \n",
      "4  2012.0  Ethnic        Shree Women Multi Colored Patiala  \n",
      "Opened dataset successfully. Dataset has 1000 items of clothing.\n"
     ]
    }
   ],
   "source": [
    "styles_filepath = \"sample_clothes/sample_styles.csv\"\n",
    "styles_df = pd.read_csv(styles_filepath, on_bad_lines='skip')\n",
    "print(styles_df.head())\n",
    "print(\"Opened dataset successfully. Dataset has {} items of clothing.\".format(len(styles_df)))"
   ]
  },
  {
   "cell_type": "code",
   "execution_count": null,
   "id": "02fa19cf",
   "metadata": {},
   "outputs": [],
   "source": [
    "import concurrent.futures\n",
    "from typing import List\n",
    "import tiktoken\n",
    "from tenacity import retry, wait_random_exponential, stop_after_attempt\n",
    "from tqdm import tqdm\n",
    "\n",
    "# Constants\n",
    "EMBEDDING_COST_PER_1K_TOKENS = 0.0001\n",
    "\n",
    "\n",
    "# Retry wrapper for embedding calls\n",
    "@retry(wait=wait_random_exponential(min=1, max=40), stop=stop_after_attempt(5))\n",
    "def get_embeddings(input_texts: List[str]):\n",
    "    return embeds.embed_documents(input_texts)\n",
    "\n",
    "# Utility to split input into batches\n",
    "def batchify(iterable, n=1):\n",
    "    for i in range(0, len(iterable), n):\n",
    "        yield iterable[i : i + n]\n",
    "\n",
    "# Main embedding function for corpus\n",
    "def embed_corpus(\n",
    "    corpus: List[str],\n",
    "    batch_size=64,\n",
    "    num_workers=8,\n",
    "    max_context_len=8191,\n",
    "):\n",
    "    encoding = tiktoken.get_encoding(\"cl100k_base\")\n",
    "    # Truncate each string based on token length\n",
    "    trimmed_corpus = []\n",
    "    for doc in corpus:\n",
    "        tokens = encoding.encode(doc)[:max_context_len]\n",
    "        trimmed_text = encoding.decode(tokens)\n",
    "        trimmed_corpus.append(trimmed_text)\n",
    "\n",
    "    # cost estimation\n",
    "    # num_tokens = sum(len(encoding.encode(doc)) for doc in trimmed_corpus)\n",
    "    # cost_to_embed = num_tokens / 1000 * EMBEDDING_COST_PER_1K_TOKENS\n",
    "    # print(f\"num_articles={len(trimmed_corpus)}, num_tokens={num_tokens}, est_embedding_cost={cost_to_embed:.4f} USD\")\n",
    "\n",
    "    # Parallel embedding\n",
    "    embeddings = []\n",
    "    with concurrent.futures.ThreadPoolExecutor(max_workers=num_workers) as executor:\n",
    "        futures = [executor.submit(get_embeddings, batch) for batch in batchify(trimmed_corpus, batch_size)]\n",
    "        \n",
    "        print(\"len_trimmed_corpus\",len(trimmed_corpus))\n",
    "        with tqdm(total=len(trimmed_corpus)) as pbar:\n",
    "            for future in concurrent.futures.as_completed(futures):\n",
    "                try:\n",
    "                    batch_embeddings = future.result()\n",
    "                    embeddings.extend(batch_embeddings)\n",
    "                    pbar.update(len(batch_embeddings))\n",
    "                except Exception as e:\n",
    "                    print(f\"Batch failed: {e}\")\n",
    "\n",
    "    return embeddings\n",
    "\n",
    "# Embedding a column in a DataFrame\n",
    "def generate_embeddings(df, column_name: str):\n",
    "    corpus = df[column_name].astype(str).tolist()\n",
    "    embeddings = embed_corpus(corpus)\n",
    "    df[\"embeddings\"] = embeddings\n",
    "    print(\"Embeddings created successfully.\")\n",
    "    return df\n",
    "\n",
    "# len((embed_corpus(['What is your name']))[0])"
   ]
  },
  {
   "cell_type": "code",
   "execution_count": 12,
   "id": "1d98e6a9",
   "metadata": {},
   "outputs": [
    {
     "name": "stdout",
     "output_type": "stream",
     "text": [
      "num_articles=1000, num_tokens=8280, est_embedding_cost=0.0008 USD\n",
      "len_trimmed_corpus 1000\n"
     ]
    },
    {
     "name": "stderr",
     "output_type": "stream",
     "text": [
      "100%|██████████| 1000/1000 [01:34<00:00, 10.61it/s]\n"
     ]
    },
    {
     "name": "stdout",
     "output_type": "stream",
     "text": [
      "Embeddings created successfully.\n",
      "Writing embeddings to file ...\n",
      "Embeddings successfully stored in sample_styles_with_embeddings.csv\n"
     ]
    }
   ],
   "source": [
    "generate_embeddings(styles_df, 'productDisplayName')\n",
    "print(\"Writing embeddings to file ...\")\n",
    "styles_df.to_csv('sample_clothes/sample_styles_with_embeddings.csv', index=False)\n",
    "print(\"Embeddings successfully stored in sample_styles_with_embeddings.csv\")"
   ]
  },
  {
   "cell_type": "code",
   "execution_count": 14,
   "id": "d43ddce5",
   "metadata": {},
   "outputs": [
    {
     "name": "stdout",
     "output_type": "stream",
     "text": [
      "      id gender masterCategory subCategory articleType baseColour  season  \\\n",
      "0  27152    Men        Apparel     Topwear      Shirts       Blue  Summer   \n",
      "1  10469    Men        Apparel     Topwear     Tshirts     Yellow    Fall   \n",
      "2  17169    Men        Apparel     Topwear      Shirts     Maroon    Fall   \n",
      "3  56702    Men        Apparel     Topwear      Kurtas       Blue  Summer   \n",
      "4  47062  Women        Apparel  Bottomwear     Patiala      Multi    Fall   \n",
      "\n",
      "     year   usage                       productDisplayName  \\\n",
      "0  2012.0  Formal       Mark Taylor Men Striped Blue Shirt   \n",
      "1  2011.0  Casual   Flying Machine Men Yellow Polo Tshirts   \n",
      "2  2011.0  Casual  U.S. Polo Assn. Men Checks Maroon Shirt   \n",
      "3  2012.0  Ethnic                  Fabindia Men Blue Kurta   \n",
      "4  2012.0  Ethnic        Shree Women Multi Colored Patiala   \n",
      "\n",
      "                                          embeddings  \n",
      "0  [0.0006296030478551984, 0.05689839646220207, -...  \n",
      "1  [-0.003143639536574483, 0.036229733377695084, ...  \n",
      "2  [-0.032588645815849304, -0.002516551874577999,...  \n",
      "3  [-0.02444874309003353, 0.018716130405664444, -...  \n",
      "4  [-0.03246410936117172, -0.0034722641576081514,...  \n",
      "Opened dataset successfully. Dataset has 1000 items of clothing along with their embeddings.\n"
     ]
    }
   ],
   "source": [
    "styles_df = pd.read_csv('sample_clothes/sample_styles_with_embeddings.csv', on_bad_lines='skip')\n",
    "styles_df.columns\n",
    "# Convert the 'embeddings' column from string representations of lists to actual lists of floats\n",
    "styles_df['embeddings'] = styles_df['embeddings'].apply(lambda x: ast.literal_eval(x))\n",
    "\n",
    "print(styles_df.head())\n",
    "print(\"Opened dataset successfully. Dataset has {} items of clothing along with their embeddings.\".format(len(styles_df)))"
   ]
  },
  {
   "cell_type": "code",
   "execution_count": 15,
   "id": "f9a0049a",
   "metadata": {},
   "outputs": [],
   "source": [
    "def cosine_similarity_manual(vec1, vec2):\n",
    "    \"\"\"Calculate the cosine similarity between two vectors.\"\"\"\n",
    "    vec1 = np.array(vec1, dtype=float)\n",
    "    vec2 = np.array(vec2, dtype=float)\n",
    "\n",
    "\n",
    "    dot_product = np.dot(vec1, vec2)\n",
    "    norm_vec1 = np.linalg.norm(vec1)\n",
    "    norm_vec2 = np.linalg.norm(vec2)\n",
    "    return dot_product / (norm_vec1 * norm_vec2)\n",
    "\n",
    "\n",
    "def find_similar_items(input_embedding, embeddings, threshold=0.5, top_k=2):\n",
    "    \"\"\"Find the most similar items based on cosine similarity.\"\"\"\n",
    "\n",
    "    # Calculate cosine similarity between the input embedding and all other embeddings\n",
    "    similarities = [(index, cosine_similarity_manual(input_embedding, vec)) for index, vec in enumerate(embeddings)]\n",
    "\n",
    "    # Filter out any similarities below the threshold\n",
    "    filtered_similarities = [(index, sim) for index, sim in similarities if sim >= threshold]\n",
    "\n",
    "    # Sort the filtered similarities by similarity score\n",
    "    sorted_indices = sorted(filtered_similarities, key=lambda x: x[1], reverse=True)[:top_k]\n",
    "\n",
    "    # Return the top-k most similar items\n",
    "    return sorted_indices"
   ]
  },
  {
   "cell_type": "code",
   "execution_count": 17,
   "id": "f8f38232",
   "metadata": {},
   "outputs": [],
   "source": [
    "def find_matching_items_with_rag(df_items, item_descs):\n",
    "   \"\"\"Take the input item descriptions and find the most similar items based on cosine similarity for each description.\"\"\"\n",
    "\n",
    "   # Select the embeddings from the DataFrame.\n",
    "   embeddings = df_items['embeddings'].tolist()\n",
    "\n",
    "\n",
    "   similar_items = []\n",
    "   for desc in item_descs:\n",
    "\n",
    "      # Generate the embedding for the input item\n",
    "      input_embedding = get_embeddings([desc])\n",
    "\n",
    "      # Find the most similar items based on cosine similarity\n",
    "      similar_indices = find_similar_items(input_embedding, embeddings, threshold=0.6)\n",
    "      similar_items += [df_items.iloc[i] for i in similar_indices]\n",
    "\n",
    "   return similar_items"
   ]
  },
  {
   "cell_type": "code",
   "execution_count": null,
   "id": "89d791d1",
   "metadata": {},
   "outputs": [],
   "source": [
    "def analyze_image(image_base64, subcategories):\n",
    "    PromptTemplate.from_template(\"\"\"Given an image of an item of clothing, analyze the item and generate a JSON output with the following fields: \"items\", \"category\", and \"gender\".\n",
    "                        Use your understanding of fashion trends, styles, and gender preferences to provide accurate and relevant suggestions for how to complete the outfit.\n",
    "                        The items field should be a list of items that would go well with the item in the picture. Each item should represent a title of an item of clothing that contains the style, color, and gender of the item.\n",
    "                        The category needs to be chosen between the types in this list: {subcategories}.\n",
    "                        You have to choose between the genders in this list: [Men, Women, Boys, Girls, Unisex]\n",
    "                        Do not include the description of the item in the picture. Do not include the ```json ``` tag in the output.\n",
    "\n",
    "                        Example Input: An image representing a black leather jacket.\n",
    "\n",
    "                        Example Output: {\"items\": [\"Fitted White Women's T-shirt\", \"White Canvas Sneakers\", \"Women's Black Skinny Jeans\"], \"category\": \"Jackets\", \"gender\": \"Women\"}\n",
    "                        \"\"\")\n",
    "    \n",
    "    generate_prompt.invoke({\"subcategories\": subcategories, \"retrieved_snippets\":retrieved_snippets})\n",
    "        \n",
    "    \n",
    "    # Extract relevant features from the response\n",
    "    features = response.choices[0].message.content\n",
    "    return features"
   ]
  },
  {
   "cell_type": "code",
   "execution_count": 34,
   "id": "a0883fbf",
   "metadata": {},
   "outputs": [],
   "source": [
    "# Create the prompt string\n",
    "def analyze_image(image_base64, subcategories):\n",
    "    prompt_text = f\"\"\"\n",
    "    Given an image of an item of clothing, analyze the item and generate a JSON output with the following fields: \"items\", \"category\", and \"gender\".\n",
    "    Use your understanding of fashion trends, styles, and gender preferences to provide accurate and relevant suggestions for how to complete the outfit.\n",
    "    The items field should be a list of items that would go well with the item in the picture. Each item should represent a title of an item of clothing that contains the style, color, and gender of the item.\n",
    "    The category needs to be chosen between the types in this list: {subcategories}.\n",
    "    You have to choose between the genders in this list: [Men, Women, Boys, Girls, Unisex]\n",
    "    Do not include the description of the item in the picture. Do not include the ```json``` tag in the output.\n",
    "\n",
    "    Example Input: An image representing a black leather jacket.\n",
    "\n",
    "    Example Output: {{\"items\": [\"Fitted White Women's T-shirt\", \"White Canvas Sneakers\", \"Women's Black Skinny Jeans\"], \"category\": \"Jackets\", \"gender\": \"Women\"}}\n",
    "    \"\"\"\n",
    "\n",
    "    # Construct the message with multimodal content\n",
    "    message = HumanMessage(\n",
    "        content=[\n",
    "            {\"type\": \"text\", \"text\": prompt_text},\n",
    "            {\n",
    "                \"type\": \"image_url\",\n",
    "                \"image_url\": {\n",
    "                    \"url\": f\"data:image/jpeg;base64,{image_base64}\"\n",
    "                },\n",
    "            },\n",
    "        ]\n",
    "    )\n",
    "\n",
    "    # Call the model\n",
    "    response = llm.invoke([message])\n",
    "    print('resp_content', response.content)\n",
    "    return response.content\n"
   ]
  },
  {
   "cell_type": "code",
   "execution_count": 35,
   "id": "69e5d1d7",
   "metadata": {},
   "outputs": [],
   "source": [
    "import base64\n",
    "\n",
    "def encode_image_to_base64(image_path):\n",
    "    with open(image_path, 'rb') as image_file:\n",
    "        encoded_image = base64.b64encode(image_file.read())\n",
    "        return encoded_image.decode('utf-8')"
   ]
  },
  {
   "cell_type": "code",
   "execution_count": 36,
   "id": "f424d25f",
   "metadata": {},
   "outputs": [],
   "source": [
    "# Set the path to the images and select a test image\n",
    "image_path = \"sample_clothes/sample_images/\"\n",
    "test_images = [\"2133.jpg\", \"7143.jpg\", \"4226.jpg\"]\n",
    "\n",
    "# Encode the test image to base64\n",
    "reference_image = image_path + test_images[0]\n",
    "encoded_image = encode_image_to_base64(reference_image)"
   ]
  },
  {
   "cell_type": "code",
   "execution_count": 37,
   "id": "2495d5cd",
   "metadata": {},
   "outputs": [
    {
     "name": "stdout",
     "output_type": "stream",
     "text": [
      "resp_content {\"items\": [\"Beige Chinos for Men\", \"Brown Casual Leather Shoes\", \"Navy Blue Denim Jacket for Men\"], \"category\": \"Shirts\", \"gender\": \"Men\"}\n"
     ]
    },
    {
     "data": {
      "image/jpeg": "[encoded data removed]",
      "text/plain": [
       "<IPython.core.display.Image object>"
      ]
     },
     "metadata": {},
     "output_type": "display_data"
    },
    {
     "name": "stdout",
     "output_type": "stream",
     "text": [
      "{'items': ['Beige Chinos for Men', 'Brown Casual Leather Shoes', 'Navy Blue Denim Jacket for Men'], 'category': 'Shirts', 'gender': 'Men'}\n"
     ]
    }
   ],
   "source": [
    "# Select the unique subcategories from the DataFrame\n",
    "unique_subcategories = styles_df['articleType'].unique()\n",
    "\n",
    "# Analyze the image and return the results\n",
    "analysis = analyze_image(encoded_image, unique_subcategories)\n",
    "image_analysis = json.loads(analysis)\n",
    "\n",
    "# Display the image and the analysis results\n",
    "display(Image(filename=reference_image))\n",
    "print(image_analysis)"
   ]
  },
  {
   "cell_type": "code",
   "execution_count": 41,
   "id": "886c025a",
   "metadata": {},
   "outputs": [
    {
     "name": "stdout",
     "output_type": "stream",
     "text": [
      "513 Remaining Items\n",
      "[id    22366\n",
      "Name: 68, dtype: object, id    11950\n",
      "Name: 356, dtype: object, id    20156\n",
      "Name: 260, dtype: object, id    22139\n",
      "Name: 534, dtype: object]\n",
      "['Beige Chinos for Men', 'Brown Casual Leather Shoes', 'Navy Blue Denim Jacket for Men']\n"
     ]
    },
    {
     "data": {
      "image/jpeg": "[encoded data removed]",
      "text/plain": [
       "<IPython.core.display.Image object>"
      ]
     },
     "metadata": {},
     "output_type": "display_data"
    },
    {
     "data": {
      "image/jpeg": "[encoded data removed]",
      "text/plain": [
       "<IPython.core.display.Image object>"
      ]
     },
     "metadata": {},
     "output_type": "display_data"
    },
    {
     "data": {
      "image/jpeg": "[encoded data removed]",
      "text/plain": [
       "<IPython.core.display.Image object>"
      ]
     },
     "metadata": {},
     "output_type": "display_data"
    },
    {
     "data": {
      "image/jpeg": "[encoded data removed]",
      "text/plain": [
       "<IPython.core.display.Image object>"
      ]
     },
     "metadata": {},
     "output_type": "display_data"
    }
   ],
   "source": [
    "# Extract the relevant features from the analysis\n",
    "item_descs = image_analysis['items']\n",
    "item_category = image_analysis['category']\n",
    "item_gender = image_analysis['gender']\n",
    "\n",
    "\n",
    "# Filter data such that we only look through the items of the same gender (or unisex) and different category\n",
    "filtered_items = styles_df.loc[styles_df['gender'].isin([item_gender, 'Unisex'])]\n",
    "filtered_items = filtered_items[filtered_items['articleType'] != item_category]\n",
    "print(str(len(filtered_items)) + \" Remaining Items\")\n",
    "\n",
    "# Find the most similar items based on the input item descriptions\n",
    "matching_items = find_matching_items_with_rag(filtered_items, item_descs)\n",
    "print(matching_items)\n",
    "\n",
    "# Display the matching items (this will display 2 items for each description in the image analysis)\n",
    "html = \"\"\n",
    "paths = []\n",
    "for i, item in enumerate(matching_items):\n",
    "    item_id = item['id']\n",
    "\n",
    "    # Path to the image file\n",
    "    image_path = f'./sample_clothes/sample_images/{item_id}.jpg'\n",
    "    paths.append(image_path)\n",
    "    html += f'<img src=\"{image_path}\" style=\"display:inline;margin:1px\"/>'\n",
    "\n",
    "# Print the matching item description as a reminder of what we are looking for\n",
    "print(item_descs)\n",
    "# Display the image\n",
    "for pth in paths:\n",
    "  display(Image(filename=pth))"
   ]
  },
  {
   "cell_type": "code",
   "execution_count": 43,
   "id": "640ea2a4",
   "metadata": {},
   "outputs": [],
   "source": [
    "def check_match(reference_image_base64: str, suggested_image_base64: str) -> str:\n",
    "    prompt_text = \"\"\"\n",
    "    You will be given two images of two different items of clothing.\n",
    "    Your goal is to decide if the items in the images would work in an outfit together.\n",
    "    The first image is the reference item (the item that the user is trying to match with another item).\n",
    "    You need to decide if the second item would work well with the reference item.\n",
    "    Your response must be a JSON output with the following fields: \"answer\", \"reason\".\n",
    "    The \"answer\" field must be either \"yes\" or \"no\", depending on whether you think the items would work well together.\n",
    "    The \"reason\" field must be a short explanation of your reasoning for your decision. Do not include the descriptions of the 2 images.\n",
    "    Do not include the ```json``` tag in the output.\n",
    "    \"\"\"\n",
    "\n",
    "    message = HumanMessage(\n",
    "        content=[\n",
    "            {\"type\": \"text\", \"text\": prompt_text},\n",
    "            {\"type\": \"image_url\", \"image_url\": {\"url\": f\"data:image/jpeg;base64,{reference_image_base64}\"}},\n",
    "            {\"type\": \"image_url\", \"image_url\": {\"url\": f\"data:image/jpeg;base64,{suggested_image_base64}\"}}\n",
    "        ]\n",
    "    )\n",
    "\n",
    "    # Invoke the model\n",
    "    response = llm.invoke([message])\n",
    "    return response.content\n",
    "\n"
   ]
  },
  {
   "cell_type": "code",
   "execution_count": 44,
   "id": "4b60a34a",
   "metadata": {},
   "outputs": [
    {
     "data": {
      "image/jpeg": "[encoded data removed]",
      "text/plain": [
       "<IPython.core.display.Image object>"
      ]
     },
     "metadata": {},
     "output_type": "display_data"
    },
    {
     "name": "stdout",
     "output_type": "stream",
     "text": [
      "The items match!\n",
      "Both items are in black, which creates a cohesive look. The shirt's casual style can pair well with the more formal shoe, balancing the outfit.\n"
     ]
    },
    {
     "data": {
      "image/jpeg": "[encoded data removed]",
      "text/plain": [
       "<IPython.core.display.Image object>"
      ]
     },
     "metadata": {},
     "output_type": "display_data"
    },
    {
     "name": "stdout",
     "output_type": "stream",
     "text": [
      "The items match!\n",
      "The black shirt is versatile and matches well with the neutral color of the shoes, creating an overall balanced look.\n"
     ]
    }
   ],
   "source": [
    "# Select the unique paths for the generated images\n",
    "paths = list(set(paths))\n",
    "\n",
    "for path in paths:\n",
    "    # Encode the test image to base64\n",
    "    suggested_image = encode_image_to_base64(path)\n",
    "\n",
    "    # Check if the items match\n",
    "    match = json.loads(check_match(encoded_image, suggested_image))\n",
    "\n",
    "    # Display the image and the analysis results\n",
    "    if match[\"answer\"] == 'yes':\n",
    "        display(Image(filename=path))\n",
    "        print(\"The items match!\")\n",
    "        print(match[\"reason\"])"
   ]
  },
  {
   "cell_type": "code",
   "execution_count": null,
   "id": "48a52461",
   "metadata": {},
   "outputs": [],
   "source": []
  }
 ],
 "metadata": {
  "kernelspec": {
   "display_name": "gen-ai",
   "language": "python",
   "name": "python3"
  },
  "language_info": {
   "codemirror_mode": {
    "name": "ipython",
    "version": 3
   },
   "file_extension": ".py",
   "mimetype": "text/x-python",
   "name": "python",
   "nbconvert_exporter": "python",
   "pygments_lexer": "ipython3",
   "version": "3.12.3"
  }
 },
 "nbformat": 4,
 "nbformat_minor": 5
}
